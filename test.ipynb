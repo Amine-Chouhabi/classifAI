{
 "cells": [
  {
   "cell_type": "markdown",
   "id": "19279830",
   "metadata": {},
   "source": [
    "ClassifAI - Notebook to compare machine learning classifiers"
   ]
  },
  {
   "cell_type": "code",
   "execution_count": null,
   "id": "04eaf790",
   "metadata": {},
   "outputs": [],
   "source": [
    "import pandas as pd \n",
    "import numpy as np \n",
    "from scipy import stats \n",
    "from sklearn.model_selection import train_test_split\n",
    "import time\n",
    "import matplotlib.pyplot as plt\n",
    "from sklearn.model_selection import train_test_split\n",
    "from sklearn.tree import DecisionTreeClassifier\n",
    "from sklearn.linear_model import LogisticRegression\n",
    "from sklearn.ensemble import RandomForestClassifier\n",
    "from sklearn.neighbors import KNeighborsClassifier\n",
    "from sklearn import svm\n",
    "from sklearn.naive_bayes import BernoulliNB\n",
    "from sklearn.naive_bayes import GaussianNB\n",
    "from sklearn.metrics import accuracy_score\n",
    "from sklearn import metrics\n"
   ]
  },
  {
   "cell_type": "markdown",
   "id": "7f5b886d",
   "metadata": {},
   "source": [
    "## Data selection"
   ]
  },
  {
   "cell_type": "code",
   "execution_count": null,
   "id": "bfc764a3",
   "metadata": {},
   "outputs": [],
   "source": [
    "# reading the data\n",
    "data = None\n",
    "data0 = pd.read_csv('diabetes.csv')\n",
    "data = pd.concat([data, data0])\n"
   ]
  },
  {
   "cell_type": "code",
   "execution_count": null,
   "id": "6c580e40",
   "metadata": {},
   "outputs": [],
   "source": [
    "# renaming columns\n",
    "data = data.rename(columns={'Glucose':'Glucose2'})\n",
    "# renaming columns\n",
    "data = data.rename(columns={'Outcome':'label'})\n"
   ]
  },
  {
   "cell_type": "code",
   "execution_count": null,
   "id": "20fcf4c8",
   "metadata": {},
   "outputs": [],
   "source": [
    "# removing columns\n",
    "data = data.drop(columns=['Pregnancies'])\n"
   ]
  },
  {
   "cell_type": "code",
   "execution_count": null,
   "id": "2504847d",
   "metadata": {},
   "outputs": [],
   "source": [
    "# removing rows\n",
    "data = data.drop([1, 2, 3])\n"
   ]
  },
  {
   "cell_type": "code",
   "execution_count": null,
   "id": "f6ca00fe",
   "metadata": {},
   "outputs": [],
   "source": [
    "# removing null values\n",
    "data = data.dropna()\n"
   ]
  },
  {
   "cell_type": "code",
   "execution_count": null,
   "id": "50a9eeff",
   "metadata": {},
   "outputs": [],
   "source": [
    "# removing outliers\n",
    "data = data[(np.abs(stats.zscore(data)) < 3).all(axis=1)]\n"
   ]
  },
  {
   "cell_type": "code",
   "execution_count": null,
   "id": "2d190ee9",
   "metadata": {},
   "outputs": [],
   "source": [
    "# removing duplicates\n",
    "data = data.drop_duplicates()\n"
   ]
  },
  {
   "cell_type": "markdown",
   "id": "26b2e7ec",
   "metadata": {},
   "source": [
    "## Pre Processing"
   ]
  },
  {
   "cell_type": "code",
   "execution_count": null,
   "id": "5fd8e37b",
   "metadata": {},
   "outputs": [],
   "source": [
    "# processing the data\n",
    "# normalizing the data\n",
    "data = (data - data.min()) / (data.max() - data.min())\n"
   ]
  },
  {
   "cell_type": "code",
   "execution_count": null,
   "id": "d91d49ad",
   "metadata": {},
   "outputs": [],
   "source": [
    "# splitting the data\n",
    "X, y = data.drop(['label'], axis = 1), data['label']\n",
    "X_train, X_test, y_train, ytest = train_test_split(X, y, test_size=0.2, random_state=45)\n"
   ]
  },
  {
   "cell_type": "markdown",
   "id": "2efea191",
   "metadata": {},
   "source": [
    "## Initializing the hyperparameters"
   ]
  },
  {
   "cell_type": "code",
   "execution_count": null,
   "id": "d6439bf0",
   "metadata": {},
   "outputs": [],
   "source": [
    "# setting the hyperparameters\n",
    "C = np.arange(0.1, 2, 0.4)\n",
    "kernel = \"linear\"\n",
    "gamma = 0.2\n"
   ]
  },
  {
   "cell_type": "markdown",
   "id": "85c01470",
   "metadata": {},
   "source": [
    "## Setting the classifiers"
   ]
  },
  {
   "cell_type": "code",
   "execution_count": null,
   "id": "596fc998",
   "metadata": {},
   "outputs": [],
   "source": [
    "# setting the algorithms\n",
    "svm1_C_1 = svm.SVC(C=0.1,kernel=kernel, gamma=gamma)\n",
    "svm1_C_2 = svm.SVC(C=0.5,kernel=kernel, gamma=gamma)\n",
    "svm1_C_3 = svm.SVC(C=0.9,kernel=kernel, gamma=gamma)\n",
    "svm1_C_4 = svm.SVC(C=1.3,kernel=kernel, gamma=gamma)\n",
    "svm1_C_5 = svm.SVC(C=1.7000000000000002,kernel=kernel, gamma=gamma)\n"
   ]
  },
  {
   "cell_type": "code",
   "execution_count": null,
   "id": "7698c292",
   "metadata": {},
   "outputs": [],
   "source": [
    "# training the algorithms\n",
    "start_svm1_C_1 = time.time()\n",
    "svm1_C_1.fit(X_train, y_train)\n",
    "end_svm1_C_1 = time.time()\n",
    "start_svm1_C_2 = time.time()\n",
    "svm1_C_2.fit(X_train, y_train)\n",
    "end_svm1_C_2 = time.time()\n",
    "start_svm1_C_3 = time.time()\n",
    "svm1_C_3.fit(X_train, y_train)\n",
    "end_svm1_C_3 = time.time()\n",
    "start_svm1_C_4 = time.time()\n",
    "svm1_C_4.fit(X_train, y_train)\n",
    "end_svm1_C_4 = time.time()\n",
    "start_svm1_C_5 = time.time()\n",
    "svm1_C_5.fit(X_train, y_train)\n",
    "end_svm1_C_5 = time.time()\n"
   ]
  },
  {
   "cell_type": "code",
   "execution_count": null,
   "id": "ae0c33a8",
   "metadata": {},
   "outputs": [],
   "source": [
    "# predicting the algorithms\n",
    "y_pred_svm1_C_1 = svm1_C_1.predict(X_test)\n",
    "y_pred_svm1_C_2 = svm1_C_2.predict(X_test)\n",
    "y_pred_svm1_C_3 = svm1_C_3.predict(X_test)\n",
    "y_pred_svm1_C_4 = svm1_C_4.predict(X_test)\n",
    "y_pred_svm1_C_5 = svm1_C_5.predict(X_test)\n"
   ]
  },
  {
   "cell_type": "markdown",
   "id": "7feacdea",
   "metadata": {},
   "source": [
    "## Visualisation of the results"
   ]
  },
  {
   "cell_type": "code",
   "execution_count": null,
   "id": "6d8112b4",
   "metadata": {},
   "outputs": [],
   "source": [
    "# visualizing the results\n",
    "algorithms = []\n",
    "algorithms.append('svm1_C_1')\n",
    "algorithms.append('svm1_C_2')\n",
    "algorithms.append('svm1_C_3')\n",
    "algorithms.append('svm1_C_4')\n",
    "algorithms.append('svm1_C_5')\n"
   ]
  },
  {
   "cell_type": "code",
   "execution_count": null,
   "id": "d3313fa0",
   "metadata": {},
   "outputs": [],
   "source": [
    "accuracies = []\n",
    "accuracies.append(metrics.accuracy_score(ytest, y_pred_svm1_C_1))\n",
    "accuracies.append(metrics.accuracy_score(ytest, y_pred_svm1_C_2))\n",
    "accuracies.append(metrics.accuracy_score(ytest, y_pred_svm1_C_3))\n",
    "accuracies.append(metrics.accuracy_score(ytest, y_pred_svm1_C_4))\n",
    "accuracies.append(metrics.accuracy_score(ytest, y_pred_svm1_C_5))\n",
    "plt.figure(figsize=(10, 10))\n",
    "plt.plot(algorithms, accuracies)\n",
    "plt.title('Accuracy of the algorithms')\n",
    "plt.show()\n"
   ]
  },
  {
   "cell_type": "code",
   "execution_count": null,
   "id": "fe17f49f",
   "metadata": {},
   "outputs": [],
   "source": [
    "losses = []\n",
    "losses.append(metrics.log_loss(ytest, y_pred_svm1_C_1))\n",
    "losses.append(metrics.log_loss(ytest, y_pred_svm1_C_2))\n",
    "losses.append(metrics.log_loss(ytest, y_pred_svm1_C_3))\n",
    "losses.append(metrics.log_loss(ytest, y_pred_svm1_C_4))\n",
    "losses.append(metrics.log_loss(ytest, y_pred_svm1_C_5))\n",
    "plt.figure(figsize=(10, 10))\n",
    "plt.pie(losses, labels=algorithms, autopct='%1.1f%%', shadow=True, startangle=90)\n",
    "plt.axis('equal')\n",
    "plt.title('Loss of the algorithms')\n",
    "plt.show()\n"
   ]
  },
  {
   "cell_type": "code",
   "execution_count": null,
   "id": "3210e678",
   "metadata": {},
   "outputs": [],
   "source": [
    "precisions = []\n",
    "precisions.append(metrics.precision_score(ytest, y_pred_svm1_C_1, pos_label=\"1\"))\n",
    "precisions.append(metrics.precision_score(ytest, y_pred_svm1_C_2, pos_label=\"1\"))\n",
    "precisions.append(metrics.precision_score(ytest, y_pred_svm1_C_3, pos_label=\"1\"))\n",
    "precisions.append(metrics.precision_score(ytest, y_pred_svm1_C_4, pos_label=\"1\"))\n",
    "precisions.append(metrics.precision_score(ytest, y_pred_svm1_C_5, pos_label=\"1\"))\n",
    "plt.figure(figsize=(10, 10))\n",
    "plt.bar(algorithms, precisions)\n",
    "plt.title('Precision of the algorithms')\n",
    "plt.show()\n"
   ]
  },
  {
   "cell_type": "code",
   "execution_count": null,
   "id": "359f5bba",
   "metadata": {},
   "outputs": [],
   "source": [
    "recalls = []\n",
    "recalls.append(metrics.recall_score(ytest, y_pred_svm1_C_1, pos_label=\"1\"))\n",
    "recalls.append(metrics.recall_score(ytest, y_pred_svm1_C_2, pos_label=\"1\"))\n",
    "recalls.append(metrics.recall_score(ytest, y_pred_svm1_C_3, pos_label=\"1\"))\n",
    "recalls.append(metrics.recall_score(ytest, y_pred_svm1_C_4, pos_label=\"1\"))\n",
    "recalls.append(metrics.recall_score(ytest, y_pred_svm1_C_5, pos_label=\"1\"))\n",
    "plt.figure(figsize=(10, 10))\n",
    "plt.bar(algorithms, recalls)\n",
    "plt.title('Recall of the algorithms')\n",
    "plt.show()\n"
   ]
  },
  {
   "cell_type": "code",
   "execution_count": null,
   "id": "04afbeef",
   "metadata": {},
   "outputs": [],
   "source": [
    "f1s = []\n",
    "f1s.append(metrics.f1_score(ytest, y_pred_svm1_C_1, pos_label=\"1\"))\n",
    "f1s.append(metrics.f1_score(ytest, y_pred_svm1_C_2, pos_label=\"1\"))\n",
    "f1s.append(metrics.f1_score(ytest, y_pred_svm1_C_3, pos_label=\"1\"))\n",
    "f1s.append(metrics.f1_score(ytest, y_pred_svm1_C_4, pos_label=\"1\"))\n",
    "f1s.append(metrics.f1_score(ytest, y_pred_svm1_C_5, pos_label=\"1\"))\n",
    "plt.figure(figsize=(10, 10))\n",
    "plt.plot(algorithms, f1s)\n",
    "plt.title('F1_score of the algorithms')\n",
    "plt.show()\n"
   ]
  },
  {
   "cell_type": "code",
   "execution_count": null,
   "id": "28cba349",
   "metadata": {},
   "outputs": [],
   "source": [
    "durations = []\n",
    "durations.append(end_svm1_C_1-start_svm1_C_1)\n",
    "durations.append(end_svm1_C_2-start_svm1_C_2)\n",
    "durations.append(end_svm1_C_3-start_svm1_C_3)\n",
    "durations.append(end_svm1_C_4-start_svm1_C_4)\n",
    "durations.append(end_svm1_C_5-start_svm1_C_5)\n",
    "plt.figure(figsize=(10, 10))\n",
    "plt.plot(algorithms, durations)\n",
    "plt.title('Training duration of the algorithms')\n",
    "plt.show()\n"
   ]
  }
 ],
 "metadata": {},
 "nbformat": 4,
 "nbformat_minor": 5
}
