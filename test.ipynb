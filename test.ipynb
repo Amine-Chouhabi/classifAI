{
 "cells": [
  {
   "cell_type": "markdown",
   "id": "4e3b392d",
   "metadata": {},
   "source": [
    "# This is a markdown cell"
   ]
  },
  {
   "cell_type": "markdown",
   "id": "fb97d6b9",
   "metadata": {},
   "source": [
    "## This is a markdown cell"
   ]
  },
  {
   "cell_type": "markdown",
   "id": "47f9cb7a",
   "metadata": {},
   "source": [
    "ClassifAI - Notebook to compare machine learning classifiers"
   ]
  },
  {
   "cell_type": "code",
   "execution_count": null,
   "id": "6f78de77",
   "metadata": {},
   "outputs": [],
   "source": [
    "import pandas as pd \n",
    "import numpy as np \n",
    "from scipy import stats \n",
    "from sklearn.model_selection import train_test_split\n",
    "import time\n",
    "import matplotlib.pyplot as plt\n",
    "from sklearn.model_selection import train_test_split\n",
    "from sklearn.tree import DecisionTreeClassifier\n",
    "from sklearn.linear_model import LogisticRegression\n",
    "from sklearn.ensemble import RandomForestClassifier\n",
    "from sklearn.neighbors import KNeighborsClassifier\n",
    "from sklearn import svm\n",
    "from sklearn.naive_bayes import BernoulliNB\n",
    "from sklearn.naive_bayes import GaussianNB\n",
    "from sklearn.metrics import accuracy_score\n",
    "from sklearn import metrics\n"
   ]
  },
  {
   "cell_type": "markdown",
   "id": "3e9a9ffa",
   "metadata": {},
   "source": [
    "## Data selection"
   ]
  },
  {
   "cell_type": "code",
   "execution_count": null,
   "id": "f22fe684",
   "metadata": {},
   "outputs": [],
   "source": [
    "# reading the data\n",
    "data = None\n",
    "data0 = pd.read_csv('diabetes.csv')\n",
    "data = pd.concat([data, data0])\n",
    "data1 = pd.read_csv('diabetes.csv')\n",
    "data = pd.concat([data, data1])\n",
    "data2 = pd.read_csv('diabetes.csv')\n",
    "data = pd.concat([data, data2])\n",
    "data3 = pd.read_csv('diabetes.csv')\n",
    "data = pd.concat([data, data3])\n"
   ]
  },
  {
   "cell_type": "code",
   "execution_count": null,
   "id": "74b2736d",
   "metadata": {},
   "outputs": [],
   "source": [
    "# removing null values\n",
    "data = data.dropna()\n"
   ]
  },
  {
   "cell_type": "code",
   "execution_count": null,
   "id": "6955dadb",
   "metadata": {},
   "outputs": [],
   "source": [
    "# removing outliers\n",
    "data = data[(np.abs(stats.zscore(data)) < 3).all(axis=1)]\n"
   ]
  },
  {
   "cell_type": "code",
   "execution_count": null,
   "id": "a880b690",
   "metadata": {},
   "outputs": [],
   "source": [
    "# removing duplicates\n",
    "data = data.drop_duplicates()\n"
   ]
  },
  {
   "cell_type": "markdown",
   "id": "65c1f331",
   "metadata": {},
   "source": [
    "## Pre Processing"
   ]
  },
  {
   "cell_type": "code",
   "execution_count": null,
   "id": "0254106e",
   "metadata": {},
   "outputs": [],
   "source": [
    "# processing the data\n",
    "# normalizing the data\n",
    "data = (data - data.min()) / (data.max() - data.min())\n"
   ]
  },
  {
   "cell_type": "code",
   "execution_count": null,
   "id": "b5158b65",
   "metadata": {},
   "outputs": [],
   "source": [
    "# splitting the data\n",
    "X, y = data.drop(['label'], axis = 1), data['label']\n",
    "X_train, X_test, y_train, y_test = train_test_split(X, y, test_size=0.2, random_state=33)\n"
   ]
  },
  {
   "cell_type": "markdown",
   "id": "4c07848a",
   "metadata": {},
   "source": [
    "## Initializing the hyperparameters"
   ]
  },
  {
   "cell_type": "code",
   "execution_count": null,
   "id": "2ada5021",
   "metadata": {},
   "outputs": [],
   "source": [
    "# setting the hyperparameters\n",
    "C = np.arange(0.1, 2, 0.4)\n",
    "kernel = \"linear\"\n",
    "gamma = 0.2\n",
    "criterion = 0.1\n",
    "splitter = \"best\"\n"
   ]
  },
  {
   "cell_type": "markdown",
   "id": "fde7d1c2",
   "metadata": {},
   "source": [
    "## Setting the classifiers"
   ]
  },
  {
   "cell_type": "code",
   "execution_count": null,
   "id": "018d2713",
   "metadata": {},
   "outputs": [],
   "source": [
    "# setting the algorithms\n",
    "svm1_C_1 = svm.SVC(C=0.1,kernel=kernel, gamma=gamma)\n",
    "svm1_C_2 = svm.SVC(C=0.5,kernel=kernel, gamma=gamma)\n",
    "svm1_C_3 = svm.SVC(C=0.9,kernel=kernel, gamma=gamma)\n",
    "svm1_C_4 = svm.SVC(C=1.3,kernel=kernel, gamma=gamma)\n",
    "svm1_C_5 = svm.SVC(C=1.7000000000000002,kernel=kernel, gamma=gamma)\n"
   ]
  },
  {
   "cell_type": "code",
   "execution_count": null,
   "id": "fa714869",
   "metadata": {},
   "outputs": [],
   "source": [
    "svm2 = svm.SVC()\n"
   ]
  },
  {
   "cell_type": "code",
   "execution_count": null,
   "id": "2e6ffc85",
   "metadata": {},
   "outputs": [],
   "source": [
    "dt1 = DecisionTreeClassifier(splitter=splitter)\n"
   ]
  },
  {
   "cell_type": "code",
   "execution_count": null,
   "id": "e2cc6770",
   "metadata": {},
   "outputs": [],
   "source": [
    "lr1 = LogisticRegression()\n"
   ]
  },
  {
   "cell_type": "code",
   "execution_count": null,
   "id": "0686535b",
   "metadata": {},
   "outputs": [],
   "source": [
    "# training the algorithms\n",
    "start_svm2 = time.time()\n",
    "svm2.fit(X_train, y_train)\n",
    "end_svm2 = time.time()\n",
    "start_dt1 = time.time()\n",
    "dt1.fit(X_train, y_train)\n",
    "end_dt1 = time.time()\n",
    "start_lr1 = time.time()\n",
    "lr1.fit(X_train, y_train)\n",
    "end_lr1 = time.time()\n",
    "start_svm1_C_1 = time.time()\n",
    "svm1_C_1.fit(X_train, y_train)\n",
    "end_svm1_C_1 = time.time()\n",
    "start_svm1_C_2 = time.time()\n",
    "svm1_C_2.fit(X_train, y_train)\n",
    "end_svm1_C_2 = time.time()\n",
    "start_svm1_C_3 = time.time()\n",
    "svm1_C_3.fit(X_train, y_train)\n",
    "end_svm1_C_3 = time.time()\n",
    "start_svm1_C_4 = time.time()\n",
    "svm1_C_4.fit(X_train, y_train)\n",
    "end_svm1_C_4 = time.time()\n",
    "start_svm1_C_5 = time.time()\n",
    "svm1_C_5.fit(X_train, y_train)\n",
    "end_svm1_C_5 = time.time()\n"
   ]
  },
  {
   "cell_type": "code",
   "execution_count": null,
   "id": "dcae24cb",
   "metadata": {},
   "outputs": [],
   "source": [
    "# predicting the algorithms\n",
    "y_pred_svm2 = svm2.predict(X_test)\n",
    "y_pred_dt1 = dt1.predict(X_test)\n",
    "y_pred_lr1 = lr1.predict(X_test)\n",
    "y_pred_svm1_C_1 = svm1_C_1.predict(X_test)\n",
    "y_pred_svm1_C_2 = svm1_C_2.predict(X_test)\n",
    "y_pred_svm1_C_3 = svm1_C_3.predict(X_test)\n",
    "y_pred_svm1_C_4 = svm1_C_4.predict(X_test)\n",
    "y_pred_svm1_C_5 = svm1_C_5.predict(X_test)\n"
   ]
  },
  {
   "cell_type": "markdown",
   "id": "f3c2e817",
   "metadata": {},
   "source": [
    "## Visualisation of the results"
   ]
  },
  {
   "cell_type": "code",
   "execution_count": null,
   "id": "4a61cdb3",
   "metadata": {},
   "outputs": [],
   "source": [
    "# visualizing the results\n",
    "algorithms = []\n",
    "algorithms.append('svm2')\n",
    "algorithms.append('dt1')\n",
    "algorithms.append('lr1')\n",
    "algorithms.append('svm1_C_1')\n",
    "algorithms.append('svm1_C_2')\n",
    "algorithms.append('svm1_C_3')\n",
    "algorithms.append('svm1_C_4')\n",
    "algorithms.append('svm1_C_5')\n"
   ]
  },
  {
   "cell_type": "code",
   "execution_count": null,
   "id": "4476b439",
   "metadata": {},
   "outputs": [],
   "source": [
    "accuracies = []\n",
    "accuracies.append(metrics.accuracy_score(ytest, y_pred_svm2))\n",
    "accuracies.append(metrics.accuracy_score(ytest, y_pred_dt1))\n",
    "accuracies.append(metrics.accuracy_score(ytest, y_pred_lr1))\n",
    "accuracies.append(metrics.accuracy_score(ytest, y_pred_svm1_C_1))\n",
    "accuracies.append(metrics.accuracy_score(ytest, y_pred_svm1_C_2))\n",
    "accuracies.append(metrics.accuracy_score(ytest, y_pred_svm1_C_3))\n",
    "accuracies.append(metrics.accuracy_score(ytest, y_pred_svm1_C_4))\n",
    "accuracies.append(metrics.accuracy_score(ytest, y_pred_svm1_C_5))\n",
    "plt.figure(figsize=(10, 10))\n",
    "plt.bar(algorithms, accuracies)\n",
    "plt.title('Accuracy of the algorithms')\n",
    "plt.show()\n"
   ]
  },
  {
   "cell_type": "code",
   "execution_count": null,
   "id": "56317c6d",
   "metadata": {},
   "outputs": [],
   "source": [
    "losses = []\n",
    "losses.append(metrics.log_loss(ytest, y_pred_svm2))\n",
    "losses.append(metrics.log_loss(ytest, y_pred_dt1))\n",
    "losses.append(metrics.log_loss(ytest, y_pred_lr1))\n",
    "losses.append(metrics.log_loss(ytest, y_pred_svm1_C_1))\n",
    "losses.append(metrics.log_loss(ytest, y_pred_svm1_C_2))\n",
    "losses.append(metrics.log_loss(ytest, y_pred_svm1_C_3))\n",
    "losses.append(metrics.log_loss(ytest, y_pred_svm1_C_4))\n",
    "losses.append(metrics.log_loss(ytest, y_pred_svm1_C_5))\n",
    "plt.figure(figsize=(10, 10))\n",
    "plt.bar(algorithms, losses)\n",
    "plt.title('Loss of the algorithms')\n",
    "plt.show()\n"
   ]
  },
  {
   "cell_type": "code",
   "execution_count": null,
   "id": "05016dd1",
   "metadata": {},
   "outputs": [],
   "source": [
    "precisions = []\n",
    "precisions.append(metrics.precision_score(ytest, y_pred_svm2, pos_label=\"1\"))\n",
    "precisions.append(metrics.precision_score(ytest, y_pred_dt1, pos_label=\"1\"))\n",
    "precisions.append(metrics.precision_score(ytest, y_pred_lr1, pos_label=\"1\"))\n",
    "precisions.append(metrics.precision_score(ytest, y_pred_svm1_C_1, pos_label=\"1\"))\n",
    "precisions.append(metrics.precision_score(ytest, y_pred_svm1_C_2, pos_label=\"1\"))\n",
    "precisions.append(metrics.precision_score(ytest, y_pred_svm1_C_3, pos_label=\"1\"))\n",
    "precisions.append(metrics.precision_score(ytest, y_pred_svm1_C_4, pos_label=\"1\"))\n",
    "precisions.append(metrics.precision_score(ytest, y_pred_svm1_C_5, pos_label=\"1\"))\n",
    "plt.figure(figsize=(10, 10))\n",
    "plt.plot(algorithms, precisions)\n",
    "plt.title('Precision of the algorithms')\n",
    "plt.show()\n"
   ]
  },
  {
   "cell_type": "code",
   "execution_count": null,
   "id": "fee51aea",
   "metadata": {},
   "outputs": [],
   "source": [
    "durations = []\n",
    "durations.append(end_svm2-start_svm2)\n",
    "durations.append(end_dt1-start_dt1)\n",
    "durations.append(end_lr1-start_lr1)\n",
    "durations.append(end_svm1_C_1-start_svm1_C_1)\n",
    "durations.append(end_svm1_C_2-start_svm1_C_2)\n",
    "durations.append(end_svm1_C_3-start_svm1_C_3)\n",
    "durations.append(end_svm1_C_4-start_svm1_C_4)\n",
    "durations.append(end_svm1_C_5-start_svm1_C_5)\n",
    "plt.figure(figsize=(10, 10))\n",
    "plt.pie(durations, labels=algorithms, autopct='%1.1f%%', shadow=True, startangle=90)\n",
    "plt.axis('equal')\n",
    "plt.title('Training duration of the algorithms')\n",
    "plt.show()\n"
   ]
  }
 ],
 "metadata": {},
 "nbformat": 4,
 "nbformat_minor": 5
}
