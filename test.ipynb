{
 "cells": [
  {
   "cell_type": "markdown",
   "id": "346f0804",
   "metadata": {},
   "source": [
    "ClassifAI - Notebook to compare machine learning classifiers"
   ]
  },
  {
   "cell_type": "code",
   "execution_count": null,
   "id": "de048c48",
   "metadata": {},
   "outputs": [],
   "source": [
    "import pandas as pd \n",
    "import numpy as np \n",
    "from scipy import stats \n",
    "from sklearn.model_selection import train_test_split\n",
    "import time\n",
    "import matplotlib.pyplot as plt\n",
    "from sklearn.model_selection import train_test_split\n",
    "from sklearn.tree import DecisionTreeClassifier\n",
    "from sklearn.linear_model import LogisticRegression\n",
    "from sklearn.ensemble import RandomForestClassifier\n",
    "from sklearn.neighbors import KNeighborsClassifier\n",
    "from sklearn import svm\n",
    "from sklearn.naive_bayes import BernoulliNB\n",
    "from sklearn.naive_bayes import GaussianNB\n",
    "from sklearn.metrics import accuracy_score\n",
    "from sklearn import metrics\n"
   ]
  },
  {
   "cell_type": "markdown",
   "id": "b9fbc03b",
   "metadata": {},
   "source": [
    "## Data selection"
   ]
  },
  {
   "cell_type": "code",
   "execution_count": null,
   "id": "1d3119dc",
   "metadata": {},
   "outputs": [],
   "source": [
    "# reading the data\n",
    "data = None\n",
    "data0 = pd.read_csv('diabetes.csv')\n",
    "data = pd.concat([data, data0])\n"
   ]
  },
  {
   "cell_type": "code",
   "execution_count": null,
   "id": "91b646f1",
   "metadata": {},
   "outputs": [],
   "source": [
    "# renaming columns\n",
    "data = data.rename(columns={'Glucose':'Glucose2'})\n",
    "# renaming columns\n",
    "data = data.rename(columns={'Outcome':'label'})\n"
   ]
  },
  {
   "cell_type": "code",
   "execution_count": null,
   "id": "aca0c5e5",
   "metadata": {},
   "outputs": [],
   "source": [
    "# removing columns\n",
    "data = data.drop(columns=['Pregnancies'])\n"
   ]
  },
  {
   "cell_type": "code",
   "execution_count": null,
   "id": "7e42e557",
   "metadata": {},
   "outputs": [],
   "source": [
    "# removing rows\n",
    "data = data.drop([1, 2, 3])\n"
   ]
  },
  {
   "cell_type": "code",
   "execution_count": null,
   "id": "25090bcb",
   "metadata": {},
   "outputs": [],
   "source": [
    "# removing null values\n",
    "data = data.dropna()\n"
   ]
  },
  {
   "cell_type": "code",
   "execution_count": null,
   "id": "eb31e4b5",
   "metadata": {},
   "outputs": [],
   "source": [
    "# removing outliers\n",
    "data = data[(np.abs(stats.zscore(data)) < 3).all(axis=1)]\n"
   ]
  },
  {
   "cell_type": "code",
   "execution_count": null,
   "id": "b04fc41e",
   "metadata": {},
   "outputs": [],
   "source": [
    "# removing duplicates\n",
    "data = data.drop_duplicates()\n"
   ]
  },
  {
   "cell_type": "markdown",
   "id": "f19fe5d2",
   "metadata": {},
   "source": [
    "## Pre Processing"
   ]
  },
  {
   "cell_type": "code",
   "execution_count": null,
   "id": "5c4243e9",
   "metadata": {},
   "outputs": [],
   "source": [
    "# processing the data\n",
    "# normalizing the data\n",
    "data = (data - data.min()) / (data.max() - data.min())\n"
   ]
  },
  {
   "cell_type": "code",
   "execution_count": null,
   "id": "639729c5",
   "metadata": {},
   "outputs": [],
   "source": [
    "# splitting the data\n",
    "X, y = data.drop(['label'], axis = 1), data['label']\n",
    "X_train, X_test, y_train, ytest = train_test_split(X, y, test_size=0.2, random_state=45)\n"
   ]
  },
  {
   "cell_type": "markdown",
   "id": "51d3cab0",
   "metadata": {},
   "source": [
    "## Initializing the hyperparameters"
   ]
  },
  {
   "cell_type": "code",
   "execution_count": null,
   "id": "b47e58fb",
   "metadata": {},
   "outputs": [],
   "source": [
    "# setting the hyperparameters\n",
    "C = np.arange(0.1, 2, 0.4)\n",
    "kernel = \"linear\"\n",
    "gamma = 0.2\n"
   ]
  },
  {
   "cell_type": "markdown",
   "id": "06591695",
   "metadata": {},
   "source": [
    "## Setting the classifiers"
   ]
  },
  {
   "cell_type": "code",
   "execution_count": null,
   "id": "c3614a4f",
   "metadata": {},
   "outputs": [],
   "source": [
    "# setting the algorithms\n",
    "svm1_C_1 = svm.SVC(C=0.1,kernel=kernel, gamma=gamma)\n",
    "svm1_C_2 = svm.SVC(C=0.5,kernel=kernel, gamma=gamma)\n",
    "svm1_C_3 = svm.SVC(C=0.9,kernel=kernel, gamma=gamma)\n",
    "svm1_C_4 = svm.SVC(C=1.3,kernel=kernel, gamma=gamma)\n",
    "svm1_C_5 = svm.SVC(C=1.7000000000000002,kernel=kernel, gamma=gamma)\n"
   ]
  },
  {
   "cell_type": "code",
   "execution_count": null,
   "id": "a74cf89f",
   "metadata": {},
   "outputs": [],
   "source": [
    "# training the algorithms\n",
    "start_svm1_C_1 = time.time()\n",
    "svm1_C_1.fit(X_train, y_train)\n",
    "end_svm1_C_1 = time.time()\n",
    "start_svm1_C_2 = time.time()\n",
    "svm1_C_2.fit(X_train, y_train)\n",
    "end_svm1_C_2 = time.time()\n",
    "start_svm1_C_3 = time.time()\n",
    "svm1_C_3.fit(X_train, y_train)\n",
    "end_svm1_C_3 = time.time()\n",
    "start_svm1_C_4 = time.time()\n",
    "svm1_C_4.fit(X_train, y_train)\n",
    "end_svm1_C_4 = time.time()\n",
    "start_svm1_C_5 = time.time()\n",
    "svm1_C_5.fit(X_train, y_train)\n",
    "end_svm1_C_5 = time.time()\n"
   ]
  },
  {
   "cell_type": "code",
   "execution_count": null,
   "id": "bc8f7283",
   "metadata": {},
   "outputs": [],
   "source": [
    "# predicting the algorithms\n",
    "y_pred_svm1_C_1 = svm1_C_1.predict(X_test)\n",
    "y_pred_svm1_C_2 = svm1_C_2.predict(X_test)\n",
    "y_pred_svm1_C_3 = svm1_C_3.predict(X_test)\n",
    "y_pred_svm1_C_4 = svm1_C_4.predict(X_test)\n",
    "y_pred_svm1_C_5 = svm1_C_5.predict(X_test)\n"
   ]
  },
  {
   "cell_type": "markdown",
   "id": "30031be2",
   "metadata": {},
   "source": [
    "## Visualisation of the results"
   ]
  },
  {
   "cell_type": "code",
   "execution_count": null,
   "id": "d1b5e338",
   "metadata": {},
   "outputs": [],
   "source": [
    "# visualizing the results\n",
    "accuracies = []\n",
    "algorithms = []\n",
    "if metrics.accuracy_score(ytest, y_pred_svm1_C_1) > 0:\n",
    "\taccuracies.append(metrics.accuracy_score(ytest, y_pred_svm1_C_1))\n",
    "\talgorithms.append('svm1_C_1')\n",
    "if metrics.accuracy_score(ytest, y_pred_svm1_C_2) > 0:\n",
    "\taccuracies.append(metrics.accuracy_score(ytest, y_pred_svm1_C_2))\n",
    "\talgorithms.append('svm1_C_2')\n",
    "if metrics.accuracy_score(ytest, y_pred_svm1_C_3) > 0:\n",
    "\taccuracies.append(metrics.accuracy_score(ytest, y_pred_svm1_C_3))\n",
    "\talgorithms.append('svm1_C_3')\n",
    "if metrics.accuracy_score(ytest, y_pred_svm1_C_4) > 0:\n",
    "\taccuracies.append(metrics.accuracy_score(ytest, y_pred_svm1_C_4))\n",
    "\talgorithms.append('svm1_C_4')\n",
    "if metrics.accuracy_score(ytest, y_pred_svm1_C_5) > 0:\n",
    "\taccuracies.append(metrics.accuracy_score(ytest, y_pred_svm1_C_5))\n",
    "\talgorithms.append('svm1_C_5')\n",
    "plt.figure(figsize=(10, 10))\n",
    "plt.plot(algorithms, accuracies)\n",
    "plt.title('Accuracy of the algorithms')\n",
    "plt.show()\n"
   ]
  },
  {
   "cell_type": "code",
   "execution_count": null,
   "id": "7a66a30b",
   "metadata": {},
   "outputs": [],
   "source": [
    "losses = []\n",
    "algorithms = []\n",
    "if metrics.log_loss(ytest, y_pred_svm1_C_1) < 50:\n",
    "\tlosses.append(metrics.log_loss(ytest, y_pred_svm1_C_1))\n",
    "\talgorithms.append('svm1_C_1')\n",
    "if metrics.log_loss(ytest, y_pred_svm1_C_2) < 50:\n",
    "\tlosses.append(metrics.log_loss(ytest, y_pred_svm1_C_2))\n",
    "\talgorithms.append('svm1_C_2')\n",
    "if metrics.log_loss(ytest, y_pred_svm1_C_3) < 50:\n",
    "\tlosses.append(metrics.log_loss(ytest, y_pred_svm1_C_3))\n",
    "\talgorithms.append('svm1_C_3')\n",
    "if metrics.log_loss(ytest, y_pred_svm1_C_4) < 50:\n",
    "\tlosses.append(metrics.log_loss(ytest, y_pred_svm1_C_4))\n",
    "\talgorithms.append('svm1_C_4')\n",
    "if metrics.log_loss(ytest, y_pred_svm1_C_5) < 50:\n",
    "\tlosses.append(metrics.log_loss(ytest, y_pred_svm1_C_5))\n",
    "\talgorithms.append('svm1_C_5')\n",
    "plt.figure(figsize=(10, 10))\n",
    "plt.pie(losses, labels=algorithms, autopct='%1.1f%%', shadow=True, startangle=90)\n",
    "plt.axis('equal')\n",
    "plt.title('Loss of the algorithms')\n",
    "plt.show()\n"
   ]
  },
  {
   "cell_type": "code",
   "execution_count": null,
   "id": "a04e8d0c",
   "metadata": {},
   "outputs": [],
   "source": [
    "precisions = []\n",
    "algorithms = []\n",
    "if metrics.precision_score(ytest, y_pred_svm1_C_1) > 0:\n",
    "\tprecisions.append(metrics.precision_score(ytest, y_pred_svm1_C_1))\n",
    "\talgorithms.append('svm1_C_1')\n",
    "if metrics.precision_score(ytest, y_pred_svm1_C_2) > 0:\n",
    "\tprecisions.append(metrics.precision_score(ytest, y_pred_svm1_C_2))\n",
    "\talgorithms.append('svm1_C_2')\n",
    "if metrics.precision_score(ytest, y_pred_svm1_C_3) > 0:\n",
    "\tprecisions.append(metrics.precision_score(ytest, y_pred_svm1_C_3))\n",
    "\talgorithms.append('svm1_C_3')\n",
    "if metrics.precision_score(ytest, y_pred_svm1_C_4) > 0:\n",
    "\tprecisions.append(metrics.precision_score(ytest, y_pred_svm1_C_4))\n",
    "\talgorithms.append('svm1_C_4')\n",
    "if metrics.precision_score(ytest, y_pred_svm1_C_5) > 0:\n",
    "\tprecisions.append(metrics.precision_score(ytest, y_pred_svm1_C_5))\n",
    "\talgorithms.append('svm1_C_5')\n",
    "plt.figure(figsize=(10, 10))\n",
    "plt.bar(algorithms, precisions)\n",
    "plt.title('Precision of the algorithms')\n",
    "plt.show()\n"
   ]
  },
  {
   "cell_type": "code",
   "execution_count": null,
   "id": "e8a70f59",
   "metadata": {},
   "outputs": [],
   "source": [
    "recalls = []\n",
    "algorithms = []\n",
    "if metrics.recall_score(ytest, y_pred_svm1_C_1) > 0:\n",
    "\trecalls.append(metrics.recall_score(ytest, y_pred_svm1_C_1))\n",
    "\talgorithms.append('svm1_C_1')\n",
    "if metrics.recall_score(ytest, y_pred_svm1_C_2) > 0:\n",
    "\trecalls.append(metrics.recall_score(ytest, y_pred_svm1_C_2))\n",
    "\talgorithms.append('svm1_C_2')\n",
    "if metrics.recall_score(ytest, y_pred_svm1_C_3) > 0:\n",
    "\trecalls.append(metrics.recall_score(ytest, y_pred_svm1_C_3))\n",
    "\talgorithms.append('svm1_C_3')\n",
    "if metrics.recall_score(ytest, y_pred_svm1_C_4) > 0:\n",
    "\trecalls.append(metrics.recall_score(ytest, y_pred_svm1_C_4))\n",
    "\talgorithms.append('svm1_C_4')\n",
    "if metrics.recall_score(ytest, y_pred_svm1_C_5) > 0:\n",
    "\trecalls.append(metrics.recall_score(ytest, y_pred_svm1_C_5))\n",
    "\talgorithms.append('svm1_C_5')\n",
    "plt.figure(figsize=(10, 10))\n",
    "plt.bar(algorithms, recalls)\n",
    "plt.title('Recall of the algorithms')\n",
    "plt.show()\n"
   ]
  },
  {
   "cell_type": "code",
   "execution_count": null,
   "id": "c9e762bf",
   "metadata": {},
   "outputs": [],
   "source": [
    "f1s = []\n",
    "algorithms = []\n",
    "if metrics.f1_score(ytest, y_pred_svm1_C_1) > 0.9:\n",
    "\tf1s.append(metrics.f1_score(ytest, y_pred_svm1_C_1))\n",
    "\talgorithms.append('svm1_C_1')\n",
    "if metrics.f1_score(ytest, y_pred_svm1_C_2) > 0.9:\n",
    "\tf1s.append(metrics.f1_score(ytest, y_pred_svm1_C_2))\n",
    "\talgorithms.append('svm1_C_2')\n",
    "if metrics.f1_score(ytest, y_pred_svm1_C_3) > 0.9:\n",
    "\tf1s.append(metrics.f1_score(ytest, y_pred_svm1_C_3))\n",
    "\talgorithms.append('svm1_C_3')\n",
    "if metrics.f1_score(ytest, y_pred_svm1_C_4) > 0.9:\n",
    "\tf1s.append(metrics.f1_score(ytest, y_pred_svm1_C_4))\n",
    "\talgorithms.append('svm1_C_4')\n",
    "if metrics.f1_score(ytest, y_pred_svm1_C_5) > 0.9:\n",
    "\tf1s.append(metrics.f1_score(ytest, y_pred_svm1_C_5))\n",
    "\talgorithms.append('svm1_C_5')\n",
    "plt.figure(figsize=(10, 10))\n",
    "plt.plot(algorithms, f1s)\n",
    "plt.title('F1_score of the algorithms')\n",
    "plt.show()\n"
   ]
  },
  {
   "cell_type": "code",
   "execution_count": null,
   "id": "29feeab9",
   "metadata": {},
   "outputs": [],
   "source": [
    "durations = []\n",
    "algorithms = []\n",
    "if end_svm1_C_1- start_svm1_C_1 > 0.3:\n",
    "\tdurations.append(end_svm1_C_1- start_svm1_C_1)\n",
    "\talgorithms.append('svm1_C_1')\n",
    "if end_svm1_C_2- start_svm1_C_2 > 0.3:\n",
    "\tdurations.append(end_svm1_C_2- start_svm1_C_2)\n",
    "\talgorithms.append('svm1_C_2')\n",
    "if end_svm1_C_3- start_svm1_C_3 > 0.3:\n",
    "\tdurations.append(end_svm1_C_3- start_svm1_C_3)\n",
    "\talgorithms.append('svm1_C_3')\n",
    "if end_svm1_C_4- start_svm1_C_4 > 0.3:\n",
    "\tdurations.append(end_svm1_C_4- start_svm1_C_4)\n",
    "\talgorithms.append('svm1_C_4')\n",
    "if end_svm1_C_5- start_svm1_C_5 > 0.3:\n",
    "\tdurations.append(end_svm1_C_5- start_svm1_C_5)\n",
    "\talgorithms.append('svm1_C_5')\n",
    "plt.figure(figsize=(10, 10))\n",
    "plt.plot(algorithms, durations)\n",
    "plt.title('Training duration of the algorithms')\n",
    "plt.show()\n"
   ]
  },
  {
   "cell_type": "code",
   "execution_count": null,
   "id": "8d5e5748",
   "metadata": {},
   "outputs": [],
   "source": [
    "table = [['Algorithm', 'Precision', 'Recall', 'F1', 'Training duration']]\n",
    "table.append(['svm1_C_1', precisions[0], recalls[0], f1s[0], durations[0]])\n",
    "table.append(['svm1_C_2', precisions[1], recalls[1], f1s[1], durations[1]])\n",
    "table.append(['svm1_C_3', precisions[2], recalls[2], f1s[2], durations[2]])\n",
    "table.append(['svm1_C_4', precisions[3], recalls[3], f1s[3], durations[3]])\n",
    "table.append(['svm1_C_5', precisions[4], recalls[4], f1s[4], durations[4]])\n",
    "print(tabulate(table, headers='firstrow', tablefmt='fancy_grid'))\n"
   ]
  }
 ],
 "metadata": {},
 "nbformat": 4,
 "nbformat_minor": 5
}
