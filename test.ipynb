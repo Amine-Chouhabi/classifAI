{
 "cells": [
  {
   "cell_type": "markdown",
   "id": "8e1c5b2c",
   "metadata": {},
   "source": [
    "ClassifAI - Notebook to compare machine learning classifiers"
   ]
  },
  {
   "cell_type": "code",
   "execution_count": null,
   "id": "1acd6d91",
   "metadata": {},
   "outputs": [],
   "source": [
    "import pandas as pd \n",
    "import numpy as np \n",
    "from scipy import stats \n",
    "from sklearn.model_selection import train_test_split\n",
    "import time\n",
    "import matplotlib.pyplot as plt\n",
    "from sklearn.model_selection import train_test_split\n",
    "from sklearn.tree import DecisionTreeClassifier\n",
    "from sklearn.linear_model import LogisticRegression\n",
    "from sklearn.ensemble import RandomForestClassifier\n",
    "from sklearn.neighbors import KNeighborsClassifier\n",
    "from sklearn import svm\n",
    "from sklearn.naive_bayes import BernoulliNB\n",
    "from sklearn.naive_bayes import GaussianNB\n",
    "from sklearn.metrics import accuracy_score\n",
    "from sklearn import metrics\n",
    "from tabulateimport tabulate\n"
   ]
  },
  {
   "cell_type": "markdown",
   "id": "685c7a39",
   "metadata": {},
   "source": [
    "## Data selection"
   ]
  },
  {
   "cell_type": "code",
   "execution_count": null,
   "id": "f5cf6ddb",
   "metadata": {},
   "outputs": [],
   "source": [
    "# reading the data\n",
    "data = None\n",
    "data0 = pd.read_csv('diabetes.csv')\n",
    "data = pd.concat([data, data0])\n"
   ]
  },
  {
   "cell_type": "code",
   "execution_count": null,
   "id": "eedabd78",
   "metadata": {},
   "outputs": [],
   "source": [
    "# renaming columns\n",
    "data = data.rename(columns={'Glucose':'Glucose2'})\n",
    "# renaming columns\n",
    "data = data.rename(columns={'Outcome':'label'})\n"
   ]
  },
  {
   "cell_type": "code",
   "execution_count": null,
   "id": "c4d77d38",
   "metadata": {},
   "outputs": [],
   "source": [
    "# removing columns\n",
    "data = data.drop(columns=['Pregnancies'])\n"
   ]
  },
  {
   "cell_type": "code",
   "execution_count": null,
   "id": "521afd1e",
   "metadata": {},
   "outputs": [],
   "source": [
    "# removing rows\n",
    "data = data.drop([1, 2, 3])\n"
   ]
  },
  {
   "cell_type": "code",
   "execution_count": null,
   "id": "cf6f0704",
   "metadata": {},
   "outputs": [],
   "source": [
    "# removing null values\n",
    "data = data.dropna()\n"
   ]
  },
  {
   "cell_type": "code",
   "execution_count": null,
   "id": "e5db7575",
   "metadata": {},
   "outputs": [],
   "source": [
    "# removing outliers\n",
    "data = data[(np.abs(stats.zscore(data)) < 3).all(axis=1)]\n"
   ]
  },
  {
   "cell_type": "code",
   "execution_count": null,
   "id": "b39213ad",
   "metadata": {},
   "outputs": [],
   "source": [
    "# removing duplicates\n",
    "data = data.drop_duplicates()\n"
   ]
  },
  {
   "cell_type": "markdown",
   "id": "96809ce9",
   "metadata": {},
   "source": [
    "## Pre Processing"
   ]
  },
  {
   "cell_type": "code",
   "execution_count": null,
   "id": "eaee6cf9",
   "metadata": {},
   "outputs": [],
   "source": [
    "# processing the data\n",
    "# normalizing the data\n",
    "data = (data - data.min()) / (data.max() - data.min())\n"
   ]
  },
  {
   "cell_type": "code",
   "execution_count": null,
   "id": "16864b1f",
   "metadata": {},
   "outputs": [],
   "source": [
    "# splitting the data\n",
    "X, y = data.drop(['label'], axis = 1), data['label']\n",
    "X_train, X_test, y_train, ytest = train_test_split(X, y, test_size=0.2, random_state=45)\n"
   ]
  },
  {
   "cell_type": "markdown",
   "id": "88064d3c",
   "metadata": {},
   "source": [
    "## Initializing the hyperparameters"
   ]
  },
  {
   "cell_type": "code",
   "execution_count": null,
   "id": "fff87c1d",
   "metadata": {},
   "outputs": [],
   "source": [
    "# setting the hyperparameters\n",
    "C = np.arange(0.1, 2, 0.4)\n",
    "kernel = \"linear\"\n",
    "gamma = 0.2\n"
   ]
  },
  {
   "cell_type": "markdown",
   "id": "63489c2f",
   "metadata": {},
   "source": [
    "## Setting the classifiers"
   ]
  },
  {
   "cell_type": "code",
   "execution_count": null,
   "id": "9d374765",
   "metadata": {},
   "outputs": [],
   "source": [
    "# setting the algorithms\n",
    "svm1_C_1 = svm.SVC(C=0.1,kernel=kernel, gamma=gamma)\n",
    "svm1_C_2 = svm.SVC(C=0.5,kernel=kernel, gamma=gamma)\n",
    "svm1_C_3 = svm.SVC(C=0.9,kernel=kernel, gamma=gamma)\n",
    "svm1_C_4 = svm.SVC(C=1.3,kernel=kernel, gamma=gamma)\n",
    "svm1_C_5 = svm.SVC(C=1.7000000000000002,kernel=kernel, gamma=gamma)\n"
   ]
  },
  {
   "cell_type": "code",
   "execution_count": null,
   "id": "3a234b5f",
   "metadata": {},
   "outputs": [],
   "source": [
    "# training the algorithms\n",
    "start_svm1_C_1 = time.time()\n",
    "svm1_C_1.fit(X_train, y_train)\n",
    "end_svm1_C_1 = time.time()\n",
    "start_svm1_C_2 = time.time()\n",
    "svm1_C_2.fit(X_train, y_train)\n",
    "end_svm1_C_2 = time.time()\n",
    "start_svm1_C_3 = time.time()\n",
    "svm1_C_3.fit(X_train, y_train)\n",
    "end_svm1_C_3 = time.time()\n",
    "start_svm1_C_4 = time.time()\n",
    "svm1_C_4.fit(X_train, y_train)\n",
    "end_svm1_C_4 = time.time()\n",
    "start_svm1_C_5 = time.time()\n",
    "svm1_C_5.fit(X_train, y_train)\n",
    "end_svm1_C_5 = time.time()\n"
   ]
  },
  {
   "cell_type": "code",
   "execution_count": null,
   "id": "0b6e1267",
   "metadata": {},
   "outputs": [],
   "source": [
    "# predicting the algorithms\n",
    "y_pred_svm1_C_1 = svm1_C_1.predict(X_test)\n",
    "y_pred_svm1_C_2 = svm1_C_2.predict(X_test)\n",
    "y_pred_svm1_C_3 = svm1_C_3.predict(X_test)\n",
    "y_pred_svm1_C_4 = svm1_C_4.predict(X_test)\n",
    "y_pred_svm1_C_5 = svm1_C_5.predict(X_test)\n"
   ]
  },
  {
   "cell_type": "markdown",
   "id": "863cb24d",
   "metadata": {},
   "source": [
    "## Visualisation of the results"
   ]
  },
  {
   "cell_type": "code",
   "execution_count": null,
   "id": "256a768e",
   "metadata": {},
   "outputs": [],
   "source": [
    "# visualizing the results\n",
    "accuracies = []\n",
    "algorithms = []\n",
    "if metrics.accuracy_score(ytest, y_pred_svm1_C_1) > 0:\n",
    "\taccuracies.append(metrics.accuracy_score(ytest, y_pred_svm1_C_1))\n",
    "\talgorithms.append('svm1_C_1')\n",
    "if metrics.accuracy_score(ytest, y_pred_svm1_C_2) > 0:\n",
    "\taccuracies.append(metrics.accuracy_score(ytest, y_pred_svm1_C_2))\n",
    "\talgorithms.append('svm1_C_2')\n",
    "if metrics.accuracy_score(ytest, y_pred_svm1_C_3) > 0:\n",
    "\taccuracies.append(metrics.accuracy_score(ytest, y_pred_svm1_C_3))\n",
    "\talgorithms.append('svm1_C_3')\n",
    "if metrics.accuracy_score(ytest, y_pred_svm1_C_4) > 0:\n",
    "\taccuracies.append(metrics.accuracy_score(ytest, y_pred_svm1_C_4))\n",
    "\talgorithms.append('svm1_C_4')\n",
    "if metrics.accuracy_score(ytest, y_pred_svm1_C_5) > 0:\n",
    "\taccuracies.append(metrics.accuracy_score(ytest, y_pred_svm1_C_5))\n",
    "\talgorithms.append('svm1_C_5')\n",
    "plt.figure(figsize=(10, 10))\n",
    "plt.plot(algorithms, accuracies)\n",
    "plt.title('Accuracy of the algorithms')\n",
    "plt.show()\n"
   ]
  },
  {
   "cell_type": "code",
   "execution_count": null,
   "id": "81b97064",
   "metadata": {},
   "outputs": [],
   "source": [
    "losses = []\n",
    "algorithms = []\n",
    "if metrics.log_loss(ytest, y_pred_svm1_C_1) < 0:\n",
    "\tlosses.append(metrics.log_loss(ytest, y_pred_svm1_C_1))\n",
    "\talgorithms.append('svm1_C_1')\n",
    "if metrics.log_loss(ytest, y_pred_svm1_C_2) < 0:\n",
    "\tlosses.append(metrics.log_loss(ytest, y_pred_svm1_C_2))\n",
    "\talgorithms.append('svm1_C_2')\n",
    "if metrics.log_loss(ytest, y_pred_svm1_C_3) < 0:\n",
    "\tlosses.append(metrics.log_loss(ytest, y_pred_svm1_C_3))\n",
    "\talgorithms.append('svm1_C_3')\n",
    "if metrics.log_loss(ytest, y_pred_svm1_C_4) < 0:\n",
    "\tlosses.append(metrics.log_loss(ytest, y_pred_svm1_C_4))\n",
    "\talgorithms.append('svm1_C_4')\n",
    "if metrics.log_loss(ytest, y_pred_svm1_C_5) < 0:\n",
    "\tlosses.append(metrics.log_loss(ytest, y_pred_svm1_C_5))\n",
    "\talgorithms.append('svm1_C_5')\n",
    "plt.figure(figsize=(10, 10))\n",
    "plt.pie(losses, labels=algorithms, autopct='%1.1f%%', shadow=True, startangle=90)\n",
    "plt.axis('equal')\n",
    "plt.title('Loss of the algorithms')\n",
    "plt.show()\n"
   ]
  },
  {
   "cell_type": "code",
   "execution_count": null,
   "id": "5ba58cb1",
   "metadata": {},
   "outputs": [],
   "source": [
    "precisions = []\n",
    "algorithms = []\n",
    "if metrics.precision_score(ytest, y_pred_svm1_C_1) > 0:\n",
    "\tprecisions.append(metrics.precision_score(ytest, y_pred_svm1_C_1))\n",
    "\talgorithms.append('svm1_C_1')\n",
    "if metrics.precision_score(ytest, y_pred_svm1_C_2) > 0:\n",
    "\tprecisions.append(metrics.precision_score(ytest, y_pred_svm1_C_2))\n",
    "\talgorithms.append('svm1_C_2')\n",
    "if metrics.precision_score(ytest, y_pred_svm1_C_3) > 0:\n",
    "\tprecisions.append(metrics.precision_score(ytest, y_pred_svm1_C_3))\n",
    "\talgorithms.append('svm1_C_3')\n",
    "if metrics.precision_score(ytest, y_pred_svm1_C_4) > 0:\n",
    "\tprecisions.append(metrics.precision_score(ytest, y_pred_svm1_C_4))\n",
    "\talgorithms.append('svm1_C_4')\n",
    "if metrics.precision_score(ytest, y_pred_svm1_C_5) > 0:\n",
    "\tprecisions.append(metrics.precision_score(ytest, y_pred_svm1_C_5))\n",
    "\talgorithms.append('svm1_C_5')\n",
    "plt.figure(figsize=(10, 10))\n",
    "plt.bar(algorithms, precisions)\n",
    "plt.title('Precision of the algorithms')\n",
    "plt.show()\n"
   ]
  },
  {
   "cell_type": "code",
   "execution_count": null,
   "id": "264d0b54",
   "metadata": {},
   "outputs": [],
   "source": [
    "recalls = []\n",
    "algorithms = []\n",
    "if metrics.recall_score(ytest, y_pred_svm1_C_1) > 0:\n",
    "\trecalls.append(metrics.recall_score(ytest, y_pred_svm1_C_1))\n",
    "\talgorithms.append('svm1_C_1')\n",
    "if metrics.recall_score(ytest, y_pred_svm1_C_2) > 0:\n",
    "\trecalls.append(metrics.recall_score(ytest, y_pred_svm1_C_2))\n",
    "\talgorithms.append('svm1_C_2')\n",
    "if metrics.recall_score(ytest, y_pred_svm1_C_3) > 0:\n",
    "\trecalls.append(metrics.recall_score(ytest, y_pred_svm1_C_3))\n",
    "\talgorithms.append('svm1_C_3')\n",
    "if metrics.recall_score(ytest, y_pred_svm1_C_4) > 0:\n",
    "\trecalls.append(metrics.recall_score(ytest, y_pred_svm1_C_4))\n",
    "\talgorithms.append('svm1_C_4')\n",
    "if metrics.recall_score(ytest, y_pred_svm1_C_5) > 0:\n",
    "\trecalls.append(metrics.recall_score(ytest, y_pred_svm1_C_5))\n",
    "\talgorithms.append('svm1_C_5')\n",
    "plt.figure(figsize=(10, 10))\n",
    "plt.bar(algorithms, recalls)\n",
    "plt.title('Recall of the algorithms')\n",
    "plt.show()\n"
   ]
  },
  {
   "cell_type": "code",
   "execution_count": null,
   "id": "ca34f3d2",
   "metadata": {},
   "outputs": [],
   "source": [
    "f1s = []\n",
    "algorithms = []\n",
    "if metrics.f1_score(ytest, y_pred_svm1_C_1) > 0:\n",
    "\tf1s.append(metrics.f1_score(ytest, y_pred_svm1_C_1))\n",
    "\talgorithms.append('svm1_C_1')\n",
    "if metrics.f1_score(ytest, y_pred_svm1_C_2) > 0:\n",
    "\tf1s.append(metrics.f1_score(ytest, y_pred_svm1_C_2))\n",
    "\talgorithms.append('svm1_C_2')\n",
    "if metrics.f1_score(ytest, y_pred_svm1_C_3) > 0:\n",
    "\tf1s.append(metrics.f1_score(ytest, y_pred_svm1_C_3))\n",
    "\talgorithms.append('svm1_C_3')\n",
    "if metrics.f1_score(ytest, y_pred_svm1_C_4) > 0:\n",
    "\tf1s.append(metrics.f1_score(ytest, y_pred_svm1_C_4))\n",
    "\talgorithms.append('svm1_C_4')\n",
    "if metrics.f1_score(ytest, y_pred_svm1_C_5) > 0:\n",
    "\tf1s.append(metrics.f1_score(ytest, y_pred_svm1_C_5))\n",
    "\talgorithms.append('svm1_C_5')\n",
    "plt.figure(figsize=(10, 10))\n",
    "plt.plot(algorithms, f1s)\n",
    "plt.title('F1_score of the algorithms')\n",
    "plt.show()\n"
   ]
  },
  {
   "cell_type": "code",
   "execution_count": null,
   "id": "137a6f14",
   "metadata": {},
   "outputs": [],
   "source": [
    "durations = []\n",
    "algorithms = []\n",
    "if end_svm1_C_1- start_svm1_C_1 > 0:\n",
    "\tdurations.append(end_svm1_C_1- start_svm1_C_1)\n",
    "\talgorithms.append('svm1_C_1')\n",
    "if end_svm1_C_2- start_svm1_C_2 > 0:\n",
    "\tdurations.append(end_svm1_C_2- start_svm1_C_2)\n",
    "\talgorithms.append('svm1_C_2')\n",
    "if end_svm1_C_3- start_svm1_C_3 > 0:\n",
    "\tdurations.append(end_svm1_C_3- start_svm1_C_3)\n",
    "\talgorithms.append('svm1_C_3')\n",
    "if end_svm1_C_4- start_svm1_C_4 > 0:\n",
    "\tdurations.append(end_svm1_C_4- start_svm1_C_4)\n",
    "\talgorithms.append('svm1_C_4')\n",
    "if end_svm1_C_5- start_svm1_C_5 > 0:\n",
    "\tdurations.append(end_svm1_C_5- start_svm1_C_5)\n",
    "\talgorithms.append('svm1_C_5')\n",
    "plt.figure(figsize=(10, 10))\n",
    "plt.plot(algorithms, durations)\n",
    "plt.title('Training duration of the algorithms')\n",
    "plt.show()\n"
   ]
  },
  {
   "cell_type": "code",
   "execution_count": null,
   "id": "ee19463a",
   "metadata": {},
   "outputs": [],
   "source": [
    "table = [[]]\n",
    "table[0].append(['accuracy'])\n",
    "table[0].append(['loss'])\n",
    "table[0].append(['precision'])\n",
    "table[0].append(['recall'])\n",
    "table[0].append(['f1'])\n",
    "table[0].append(['training_duration'])\n",
    "table.append(['svm1_C_1'])\n",
    "table[1].append(accuracies[0])\n",
    "table[1].append(precisions[0])\n",
    "table[1].append(recalls[0])\n",
    "table[1].append(f1s[0])\n",
    "table[1].append(durations[0])\n",
    "table.append(['svm1_C_2'])\n",
    "table[2].append(accuracies[1])\n",
    "table[2].append(precisions[1])\n",
    "table[2].append(recalls[1])\n",
    "table[2].append(f1s[1])\n",
    "table[2].append(durations[1])\n",
    "table.append(['svm1_C_3'])\n",
    "table[3].append(accuracies[2])\n",
    "table[3].append(precisions[2])\n",
    "table[3].append(recalls[2])\n",
    "table[3].append(f1s[2])\n",
    "table[3].append(durations[2])\n",
    "table.append(['svm1_C_4'])\n",
    "table[4].append(accuracies[3])\n",
    "table[4].append(precisions[3])\n",
    "table[4].append(recalls[3])\n",
    "table[4].append(f1s[3])\n",
    "table[4].append(durations[3])\n",
    "table.append(['svm1_C_5'])\n",
    "table[5].append(accuracies[4])\n",
    "table[5].append(precisions[4])\n",
    "table[5].append(recalls[4])\n",
    "table[5].append(f1s[4])\n",
    "table[5].append(durations[4])\n",
    "print(tabulate(table, headers='firstrow', tablefmt='fancy_grid'))\n"
   ]
  }
 ],
 "metadata": {},
 "nbformat": 4,
 "nbformat_minor": 5
}
